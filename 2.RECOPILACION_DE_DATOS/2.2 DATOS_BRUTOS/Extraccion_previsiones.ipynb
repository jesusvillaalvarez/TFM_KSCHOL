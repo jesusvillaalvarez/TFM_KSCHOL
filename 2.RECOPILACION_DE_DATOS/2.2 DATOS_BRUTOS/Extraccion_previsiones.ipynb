{
 "cells": [
  {
   "cell_type": "markdown",
   "id": "427cbde8",
   "metadata": {},
   "source": [
    "# Datos de Previsión de Generación Termosolar"
   ]
  },
  {
   "cell_type": "markdown",
   "id": "a6a61d42",
   "metadata": {},
   "source": [
    "Los datos de previsión de generación son proporcionados por la empresa Meteologica.\n",
    "Estas previsiones son insertadas de manera diaria en la base de datos de Axpo, empresa que colabora con la realización de este TFM.\n",
    "\n",
    "La obtención de los datos se realiza de la base de datos SQL de Axpo que actua como concentrador de previsiones de las diferentes instalaciones en la cartera.\n",
    "\n",
    "A través de la siguiente query se obtienen los datos de previsión horaria para la UFI que representa la unidad de generación objeto de este estudio.\n",
    "\n",
    "Por LPD se utiliza un Alias.\n",
    "\n",
    "~~~~sql\n",
    "SELECT a.FESESION,a.HORA,a.CDUNIFIS,isnull(a.ProgSinEst,0) as PROGRAMA       \n",
    "FROM (SELECT PMD.[FESESION],PMD.[HORA],UF.[CDUNIFIS],\n",
    "        CASE WHEN UF.FACTURAR_MIC = 'S' THEN \n",
    "        (SELECT ISNULL(SUM(f.[ENERGIA]),0)\n",
    "            FROM #tmp_aire_programa_final_sesion F \n",
    "            WHERE F.[FECHA] = PMD.[FESESION] AND F.[HORA] = PMD.[HORA] AND F.[CDUNIFIS] = UF.[CDUNIFIS]) \n",
    "            -(SELECT ISNULL(SUM(EST.[ENERGIAMWH]),0) FROM #tmp_aire_est_energia_ufi AS EST \n",
    "            WHERE EST.[FESESION] = PMD.[FESESION] AND EST.[HORA] = PMD.[HORA] AND EST.[CDUNIFIS] = UF.[CDUNIFIS]) \n",
    "            +(SELECT ISNULL(SUM(MIC.[PREVISION_MIC]),0) FROM #tmp_aire_prevision_ufis_mic AS MIC \n",
    "            WHERE MIC.[FECHA] = PMD.[FESESION] AND MIC.[HORA] = PMD.[HORA] AND MIC.[CDUNIFIS] = UF.[CDUNIFIS]) \n",
    "            +(SELECT ISNULL(SUM(RT5.[ENERGIAMW]),0) FROM #tmp_aire_liq_rt5_ufi AS RT5 \n",
    "            WHERE RT5.[FECHA] = PMD.[FESESION] AND RT5.[HORA] = PMD.[HORA] AND RT5.[CDUNIFIS] = UF.[CDUNIFIS]) \n",
    "            +(SELECT ISNULL(SUM(TERC.[ENERGIA_MWH]),0) FROM #VA_am_energia_asig_ufi_est AS TERC \n",
    "            WHERE TERC.[FECHA] = PMD.[FESESION] AND TERC.[HORA] = PMD.[HORA] AND TERC.[CDUNIFIS] = UF.[CDUNIFIS]) \n",
    "        ELSE\n",
    "           (SELECT ISNULL(SUM(f.[ENERGIA]),0) FROM #tmp_aire_programa_final_sesion F \n",
    "           WHERE F.[FECHA] = PMD.[FESESION] AND F.[HORA] = PMD.[HORA] AND F.[CDUNIFIS] = UF.[CDUNIFIS]) \n",
    "           -(SELECT ISNULL(SUM(EST.[ENERGIAMWH]),0) FROM #tmp_aire_est_energia_ufi AS EST \n",
    "           WHERE EST.[FESESION] = PMD.[FESESION] AND EST.[HORA] = PMD.[HORA] AND EST.[CDUNIFIS] = UF.[CDUNIFIS]) \n",
    "           +(SELECT ISNULL(SUM(RT5.[ENERGIAMW]),0) FROM #tmp_aire_liq_rt5_ufi AS RT5 \n",
    "           WHERE RT5.[FECHA] = PMD.[FESESION] AND RT5.[HORA] = PMD.[HORA] AND RT5.[CDUNIFIS] = UF.[CDUNIFIS]) \n",
    "           +(SELECT ISNULL(SUM(TERC.[ENERGIA_MWH]),0) FROM #VA_am_energia_asig_ufi_est AS TERC \n",
    "       WHERE TERC.[FECHA] = PMD.[FESESION] AND TERC.[HORA] = PMD.[HORA] AND TERC.[CDUNIFIS] = UF.[CDUNIFIS]) \n",
    "       END ProgSinEst,PMD.precio*10 as prepmd\n",
    "     FROM #tmp_aire_precios_md PMD INNER JOIN #tmp_aire_fechas_uf UF\n",
    "     ON PMD.FESESION=UF.FESESION AND PMD.HORA=UF.HORA\n",
    "     WHERE PMD.FESESION between @FECHASESION and @FECHASESION2\n",
    "     AND UF.CDUNIFIS IN (@UFISICA)) a\n",
    "ORDER BY a.[CDUNIFIS],a.[FESESION],a.[HORA]\n",
    "\n",
    "~~~~\n",
    "El resultado de esta query se exporta en archivo csv separado por comas"
   ]
  },
  {
   "cell_type": "code",
   "execution_count": null,
   "id": "b2d11aee",
   "metadata": {},
   "outputs": [],
   "source": []
  },
  {
   "cell_type": "code",
   "execution_count": null,
   "id": "fb038964",
   "metadata": {},
   "outputs": [],
   "source": []
  }
 ],
 "metadata": {
  "kernelspec": {
   "display_name": "Python 3 (ipykernel)",
   "language": "python",
   "name": "python3"
  },
  "language_info": {
   "codemirror_mode": {
    "name": "ipython",
    "version": 3
   },
   "file_extension": ".py",
   "mimetype": "text/x-python",
   "name": "python",
   "nbconvert_exporter": "python",
   "pygments_lexer": "ipython3",
   "version": "3.11.5"
  }
 },
 "nbformat": 4,
 "nbformat_minor": 5
}
