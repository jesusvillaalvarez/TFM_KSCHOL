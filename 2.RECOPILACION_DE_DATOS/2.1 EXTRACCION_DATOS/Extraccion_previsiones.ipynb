{
 "cells": [
  {
   "cell_type": "markdown",
   "id": "427cbde8",
   "metadata": {},
   "source": [
    "# Datos de Previsión de Generación Termosolar"
   ]
  },
  {
   "cell_type": "markdown",
   "id": "3c1ac842",
   "metadata": {},
   "source": [
    "Los datos de previsión de generación son proporcionados por la empresa Meteologica.\n",
    "Estas previsiones son insertadas de manera diaria en la base de datos de Axpo, empresa que colabora con la realización de este TFM.\n",
    "\n",
    "La obtención de los datos se realiza de la base de datos SQL de Axpo que actua como concentrador de previsiones de las diferentes instalaciones en la cartera.\n",
    "\n",
    "A través de la siguiente query se obtienen los datos de previsión horaria para la UFI que representa la unidad de generación objeto de este estudio.\n",
    "\n",
    "Por LPD se utiliza un Alias.\n",
    "\n",
    "~~~~sql\n",
    "SELECT CAB.FESESION,DET.HORA,CAB.VERPREV,DET.ENERGIA,CAB.FEULTMOD,ENV.CDUSUARIO\n"
    "FROM [EGL_READ].[dbo].[CAB_PREVISION] CAB\n" 
    "    INNER JOIN [EGL_READ].[dbo].[DET_PREVISION] DET ON CAB.CDPREV=DET.CDPREV AND CAB.VERPREV=DET.VERPREV\n"
    "    INNER JOIN [EGL_READ].[dbo].[ENVIO_PREVISIONES] ENV ON CAB.CDENVIO=ENV.CDENVIO\n" 
    "WHERE CAB.FESESION >= '2021-01-01' AND CAB.CDUNIFIS='SOLAR'\n"
    "AND CAB.VERPREV IN (SELECT MIN(CAB1.VERPREV) FROM [EGL_READ].[dbo].[CAB_PREVISION] CAB1\n"
        "INNER JOIN [EGL_READ].[dbo].[ENVIO_PREVISIONES] ENV1 ON CAB1.CDENVIO=ENV1.CDENVIO\n"
    "WHERE CAB1.CDPREV=CAB.CDPREV) \n"
    "ORDER BY CAB.FESESION,DET.HORA,CAB.VERPREV\n"
    "\n",
    "~~~~\n",
    "\n",
    "\n",
    "El resultado de esta query se exporta en archivo csv separado por comas"
   ]
  },
  {
   "cell_type": "code",
   "execution_count": null,
   "id": "b2d11aee",
   "metadata": {},
   "outputs": [],
   "source": []
  },
  {
   "cell_type": "code",
   "execution_count": null,
   "id": "fb038964",
   "metadata": {},
   "outputs": [],
   "source": []
  }
 ],
 "metadata": {
  "kernelspec": {
   "display_name": "Python 3 (ipykernel)",
   "language": "python",
   "name": "python3"
  },
  "language_info": {
   "codemirror_mode": {
    "name": "ipython",
    "version": 3
   },
   "file_extension": ".py",
   "mimetype": "text/x-python",
   "name": "python",
   "nbconvert_exporter": "python",
   "pygments_lexer": "ipython3",
   "version": "3.11.5"
  }
 },
 "nbformat": 4,
 "nbformat_minor": 5
}
