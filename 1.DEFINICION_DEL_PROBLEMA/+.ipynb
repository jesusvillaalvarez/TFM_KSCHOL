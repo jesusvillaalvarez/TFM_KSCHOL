{
 "cells": [
  {
   "cell_type": "markdown",
   "id": "66dbf92d",
   "metadata": {},
   "source": [
    "# TEXTO MARKDOWN\n"
   ]
  },
  {
   "cell_type": "code",
   "execution_count": null,
   "id": "cd6053ae",
   "metadata": {},
   "outputs": [],
   "source": [
    "La Central se encuentra en 10120 Logrosán, Cáceres\n",
    "Codigo AEMET localidad (logrosan-id10109)"
   ]
  },
  {
   "cell_type": "code",
   "execution_count": null,
   "id": "34346fea",
   "metadata": {},
   "outputs": [],
   "source": []
  },
  {
   "cell_type": "code",
   "execution_count": null,
   "id": "8862f530",
   "metadata": {},
   "outputs": [],
   "source": []
  }
 ],
 "metadata": {
  "kernelspec": {
   "display_name": "Python 3 (ipykernel)",
   "language": "python",
   "name": "python3"
  },
  "language_info": {
   "codemirror_mode": {
    "name": "ipython",
    "version": 3
   },
   "file_extension": ".py",
   "mimetype": "text/x-python",
   "name": "python",
   "nbconvert_exporter": "python",
   "pygments_lexer": "ipython3",
   "version": "3.11.5"
  }
 },
 "nbformat": 4,
 "nbformat_minor": 5
}
