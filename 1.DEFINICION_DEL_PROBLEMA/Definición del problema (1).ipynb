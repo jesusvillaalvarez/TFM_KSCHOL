{
 "cells": [
  {
   "cell_type": "markdown",
   "metadata": {
    "id": "hO8kZrzUwhY5"
   },
   "source": [
    "# Definición del problema"
   ]
  },
  {
   "cell_type": "markdown",
   "metadata": {
    "id": "l2_afJDgwqKh"
   },
   "source": [
    "El sistema electrico en España requiere la información al operdor del sistem (REE) de la previsión de generacion electrica, en primera instancia para el dia D+1.\n",
    "\n",
    "Esta previsión debe ser lo mas ajustada la realidad después producida ya que conyeva una penalización economica para su agente en mercado y en ultima instancia para el productor (la instalación en adelante).\n",
    "\n",
    "Las previsiones de generaciónse reciben con varias horas de antelación durante el dia D-1.\n",
    "\n",
    "Se tomarán para el estudio la ultima previsión valida antes de las 00:00 del dia D.\n"
   ]
  },
  {
   "cell_type": "markdown",
   "metadata": {
    "id": "l2_afJDgwqKh"
   },
   "source": [
    "# Propuestas de mejora en la previsión"
   ]
  },
  {
   "cell_type": "markdown",
   "metadata": {
    "id": "QO5pSa2hycDC"
   },
   "source": [
    "## 1.Definición del problema"
   ]
  },
  {
   "cell_type": "markdown",
   "metadata": {
    "executionInfo": {
     "elapsed": 445,
     "status": "ok",
     "timestamp": 1701178510794,
     "user": {
      "displayName": "Jesus Villamuelas Alvarez",
      "userId": "06687171915356449628"
     },
     "user_tz": -60
    },
    "id": "JT2XZdrWyoTj"
   },
   "source": [
    "El sistema electrico en España requiere la información al operdor del sistem (REE) de la previsión de generacion electrica, en primera instancia para el dia D+1.\n",
    "\n",
    "Esta previsión debe ser lo mas ajustada la realidad después producida ya que conyeva una penalización economica para su agente en mercado y en ultima instancia para el productor (la instalación en adelante).\n",
    "\n",
    "Las previsiones de generaciónse reciben con varias horas de antelación durante el dia D-1.\n",
    "\n",
    "Se tomarán para el estudio la ultima previsión valida antes de las 00:00 del dia D."
   ]
  },
  {
   "cell_type": "markdown",
   "metadata": {
    "id": "1WYYyDfdyzDb"
   },
   "source": [
    "## 2.Propuestas de mejora en la previsión"
   ]
  },
  {
   "cell_type": "markdown",
   "metadata": {
    "colab": {
     "base_uri": "https://localhost:8080/",
     "height": 224
    },
    "executionInfo": {
     "elapsed": 2820,
     "status": "ok",
     "timestamp": 1701177968215,
     "user": {
      "displayName": "Jesus Villamuelas Alvarez",
      "userId": "06687171915356449628"
     },
     "user_tz": -60
    },
    "id": "_BKd8TKBy5It",
    "outputId": "29aa8c89-3ec9-4d4e-827d-bc89fc47a051"
   },
   "source": [
    "Se van a proponer tres solución en busqueda de mejorar los MWh de desvío reusltantes en la comparación de la previsión recibida y la posterior energia producida real."
   ]
  },
  {
   "cell_type": "markdown",
   "metadata": {
    "id": "V8dfbjnQ6dGg"
   },
   "source": [
    "2.1 Detección de restraso en arranque de la instalación"
   ]
  },
  {
   "cell_type": "markdown",
   "metadata": {
    "id": "cGOpcbXC51Vf"
   },
   "source": [
    "Gracias al conocimiento de negocio, se detecta que uno de los problemas habituales y que provoca un gran volumen de desvio (MWh) son las previsioines de arranque de la instalación, que en realidad se realizan horas mas tarde.\n",
    "\n",
    "El modelo propuesto en este punto, deberá detectar si se ha previsto un arranque prematuro.\n",
    "A partir de datos historicos de la instalacion, sobretodo de los comportamientos recibidos de los dias mas inmediatos, el modelo debe preveer si se ha de retrasar la pevision de arranque respecto a la previsión recibida."
   ]
  },
  {
   "cell_type": "markdown",
   "metadata": {
    "colab": {
     "base_uri": "https://localhost:8080/"
    },
    "executionInfo": {
     "elapsed": 523,
     "status": "ok",
     "timestamp": 1701177989429,
     "user": {
      "displayName": "Jesus Villamuelas Alvarez",
      "userId": "06687171915356449628"
     },
     "user_tz": -60
    },
    "id": "K6DadrqC6ozs",
    "outputId": "6ba682b8-97ea-4fa5-df33-3741606ea9d6"
   },
   "source": [
    "2.2 Mejora de previsión a partir de historico"
   ]
  },
  {
   "cell_type": "markdown",
   "metadata": {
    "id": "TjLjKhlH6y5d"
   },
   "source": [
    "El conocimiento que aporta el comportamiento pasado de la instalación, gracias a datos historicos, puede mejorar la previsión recibida, dandole un mayor o menor peso en el resultado final.\n",
    "\n",
    "El modelo propuesto en este punto de mejora, se basará en la aplicacion de regresion lineal en las previsiones recibidas y en la ponderación de medidas reales de dias previos que aporten un resultado final mas aocorde a las medidas reales de producción."
   ]
  },
  {
   "cell_type": "markdown",
   "metadata": {},
   "source": [
    "\n",
    "2.3 Modificación de previsión ante eventos externos y excepecionales"
   ]
  },
  {
   "cell_type": "markdown",
   "metadata": {},
   "source": [
    "El know how en circuntancias previas, nos dice, que las condiciones meteoroligocas adversas y excepecionales, en particular, los episiodios de calima y por tanto una calidad del aire baja, afectan en gran parte a la producción final. Estos eventos historicamente no se tienen en cuenta en las previsiones, generando un gran desvío final.\n",
    "\n",
    "El modelo propuesto en este punto, podrá ante la descarga automatica de previsiones de calidad de aie adversar, modificar la prevision recibida para adecuarla a la realidad."
   ]
  }
 ],
 "metadata": {
  "colab": {
   "authorship_tag": "ABX9TyNugszL8krbrPJRo/z3qMe1",
   "provenance": []
  },
  "kernelspec": {
   "display_name": "Python 3 (ipykernel)",
   "language": "python",
   "name": "python3"
  },
  "language_info": {
   "codemirror_mode": {
    "name": "ipython",
    "version": 3
   },
   "file_extension": ".py",
   "mimetype": "text/x-python",
   "name": "python",
   "nbconvert_exporter": "python",
   "pygments_lexer": "ipython3",
   "version": "3.11.5"
  }
 },
 "nbformat": 4,
 "nbformat_minor": 1
}
